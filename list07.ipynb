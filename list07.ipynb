{
 "cells": [
  {
   "cell_type": "code",
   "execution_count": 4,
   "metadata": {},
   "outputs": [],
   "source": [
    "import tkinter"
   ]
  },
  {
   "cell_type": "code",
   "execution_count": 5,
   "metadata": {},
   "outputs": [
    {
     "name": "stdout",
     "output_type": "stream",
     "text": [
      "已經勾選\n",
      "尚未勾選\n",
      "已經勾選\n",
      "尚未勾選\n",
      "已經勾選\n",
      "尚未勾選\n"
     ]
    }
   ],
   "source": [
    "root = tkinter.Tk()\n",
    "root.title(\"取得勾選狀態\")\n",
    "root.geometry(\"400x200\")\n",
    "cval = tkinter.BooleanVar()\n",
    "cval.set(False)\n",
    "cbtn = tkinter.Checkbutton(text=\"勾選按鈕\", variable=cval, command=check)\n",
    "cbtn.pack()\n",
    "root.mainloop()"
   ]
  },
  {
   "cell_type": "code",
   "execution_count": null,
   "metadata": {},
   "outputs": [],
   "source": [
    "def check():\n",
    "    if cval.get() == True:\n",
    "        print(\"已經勾選\")\n",
    "    else:\n",
    "        print(\"尚未勾選\")"
   ]
  }
 ],
 "metadata": {
  "kernelspec": {
   "display_name": "Python 3",
   "language": "python",
   "name": "python3"
  },
  "language_info": {
   "codemirror_mode": {
    "name": "ipython",
    "version": 3
   },
   "file_extension": ".py",
   "mimetype": "text/x-python",
   "name": "python",
   "nbconvert_exporter": "python",
   "pygments_lexer": "ipython3",
   "version": "3.11.3"
  },
  "orig_nbformat": 4
 },
 "nbformat": 4,
 "nbformat_minor": 2
}
